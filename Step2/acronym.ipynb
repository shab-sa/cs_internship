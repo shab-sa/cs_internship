{
 "cells": [
  {
   "attachments": {},
   "cell_type": "markdown",
   "metadata": {},
   "source": [
    "# Instructions\n",
    "\n",
    "Convert a phrase to its acronym.\n",
    "\n",
    "Techies love their TLA (Three Letter Acronyms)!\n",
    "\n",
    "Help generate some jargon by writing a program that converts a long name like Portable Network Graphics to its acronym (PNG).\n",
    "\n",
    "Punctuation is handled as follows: hyphens are word separators (like whitespace); all other punctuation can be removed from the input.\n",
    "\n",
    "For example:\n",
    "\n",
    "|Input|Output|\n",
    "|-|-|\n",
    "|As Soon As Possible|ASAP|\n",
    "|Liquid-crystal display|LCD|\n",
    "|Thank George It's Friday!|TGIF|\n"
   ]
  },
  {
   "cell_type": "code",
   "execution_count": 1,
   "metadata": {},
   "outputs": [],
   "source": [
    "import re\n",
    "def abbreviate(words):\n",
    "    return ''.join([i[0].upper() for i in re.findall(r\"[\\w']+\", words.replace('_',''))])\n",
    " \n"
   ]
  }
 ],
 "metadata": {
  "kernelspec": {
   "display_name": "Python 3",
   "language": "python",
   "name": "python3"
  },
  "language_info": {
   "codemirror_mode": {
    "name": "ipython",
    "version": 3
   },
   "file_extension": ".py",
   "mimetype": "text/x-python",
   "name": "python",
   "nbconvert_exporter": "python",
   "pygments_lexer": "ipython3",
   "version": "3.10.11"
  },
  "orig_nbformat": 4
 },
 "nbformat": 4,
 "nbformat_minor": 2
}
