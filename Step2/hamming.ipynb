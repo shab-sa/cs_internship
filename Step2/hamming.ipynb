{
 "cells": [
  {
   "attachments": {},
   "cell_type": "markdown",
   "metadata": {},
   "source": [
    "# Instructions\n",
    "\n",
    "Calculate the Hamming Distance between two DNA strands.\n",
    "\n",
    "Your body is made up of cells that contain DNA.\n",
    "Those cells regularly wear out and need replacing, which they achieve by dividing into daughter cells.\n",
    "In fact, the average human body experiences about 10 quadrillion cell divisions in a lifetime!\n",
    "\n",
    "When cells divide, their DNA replicates too.\n",
    "Sometimes during this process mistakes happen and single pieces of DNA get encoded with the incorrect information.\n",
    "If we compare two strands of DNA and count the differences between them we can see how many mistakes occurred.\n",
    "This is known as the \"Hamming Distance\".\n",
    "\n",
    "We read DNA using the letters C,A,G and T.\n",
    "Two strands might look like this:\n",
    "\n",
    "    GAGCCTACTAACGGGAT\n",
    "    CATCGTAATGACGGCCT\n",
    "    ^ ^ ^  ^ ^    ^^\n",
    "\n",
    "They have 7 differences, and therefore the Hamming Distance is 7.\n",
    "\n",
    "The Hamming Distance is useful for lots of things in science, not just biology, so it's a nice phrase to be familiar with :)\n",
    "\n",
    "## Implementation notes\n",
    "\n",
    "The Hamming distance is only defined for sequences of equal length, so an attempt to calculate it between sequences of different lengths should not work.\n"
   ]
  },
  {
   "cell_type": "code",
   "execution_count": 1,
   "metadata": {},
   "outputs": [],
   "source": [
    "def distance(strand_a, strand_b):\n",
    "    s = 0\n",
    "    if len(strand_a) != len(strand_b):\n",
    "        raise ValueError(\"Strands must be of equal length.\")\n",
    "    for i, c in enumerate(strand_a):\n",
    "        if strand_b[i] != c:\n",
    "            s += 1\n",
    "    return s\n"
   ]
  }
 ],
 "metadata": {
  "kernelspec": {
   "display_name": "Python 3",
   "language": "python",
   "name": "python3"
  },
  "language_info": {
   "codemirror_mode": {
    "name": "ipython",
    "version": 3
   },
   "file_extension": ".py",
   "mimetype": "text/x-python",
   "name": "python",
   "nbconvert_exporter": "python",
   "pygments_lexer": "ipython3",
   "version": "3.10.11"
  },
  "orig_nbformat": 4
 },
 "nbformat": 4,
 "nbformat_minor": 2
}
