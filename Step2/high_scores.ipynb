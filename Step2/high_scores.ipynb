{
 "cells": [
  {
   "attachments": {},
   "cell_type": "markdown",
   "metadata": {},
   "source": [
    "# Instructions\n",
    "\n",
    "Manage a game player's High Score list.\n",
    "\n",
    "Your task is to build a high-score component of the classic Frogger game, one of the highest selling and most addictive games of all time, and a classic of the arcade era.\n",
    "Your task is to write methods that return the highest score from the list, the last added score and the three highest scores.\n"
   ]
  },
  {
   "cell_type": "code",
   "execution_count": 1,
   "metadata": {},
   "outputs": [],
   "source": [
    "class Matrix:\n",
    "    def __init__(self, matrix_string):\n",
    "        self.matrix=[]\n",
    "        rows=matrix_string.split('\\n')\n",
    "        for row in rows:\n",
    "            self.matrix.append(list(map(int, row.split())))\n",
    "\n",
    "    def row(self, index):\n",
    "        return self.matrix[index-1]\n",
    "\n",
    "    def column(self, index):\n",
    "        return [i[index-1] for i in self.matrix]\n"
   ]
  }
 ],
 "metadata": {
  "kernelspec": {
   "display_name": "Python 3",
   "language": "python",
   "name": "python3"
  },
  "language_info": {
   "codemirror_mode": {
    "name": "ipython",
    "version": 3
   },
   "file_extension": ".py",
   "mimetype": "text/x-python",
   "name": "python",
   "nbconvert_exporter": "python",
   "pygments_lexer": "ipython3",
   "version": "3.10.11"
  },
  "orig_nbformat": 4
 },
 "nbformat": 4,
 "nbformat_minor": 2
}
