{
 "cells": [
  {
   "attachments": {},
   "cell_type": "markdown",
   "metadata": {},
   "source": [
    "# Instructions\n",
    "\n",
    "Determine if a word or phrase is an isogram.\n",
    "\n",
    "An isogram (also known as a \"non-pattern word\") is a word or phrase without a repeating letter, however spaces and hyphens are allowed to appear multiple times.\n",
    "\n",
    "Examples of isograms:\n",
    "\n",
    "- lumberjacks\n",
    "- background\n",
    "- downstream\n",
    "- six-year-old\n",
    "\n",
    "The word *isograms*, however, is not an isogram, because the s repeats.\n"
   ]
  },
  {
   "cell_type": "code",
   "execution_count": 1,
   "metadata": {},
   "outputs": [],
   "source": [
    "def is_isogram(string):\n",
    "    char_count={}\n",
    "    for c in string.lower():\n",
    "        if c.isalpha():\n",
    "            char_count[c]=char_count.get(c,0)+1\n",
    "            if char_count[c]>1:\n",
    "                return False\n",
    "    return True\n"
   ]
  }
 ],
 "metadata": {
  "kernelspec": {
   "display_name": "Python 3",
   "language": "python",
   "name": "python3"
  },
  "language_info": {
   "codemirror_mode": {
    "name": "ipython",
    "version": 3
   },
   "file_extension": ".py",
   "mimetype": "text/x-python",
   "name": "python",
   "nbconvert_exporter": "python",
   "pygments_lexer": "ipython3",
   "version": "3.10.11"
  },
  "orig_nbformat": 4
 },
 "nbformat": 4,
 "nbformat_minor": 2
}
