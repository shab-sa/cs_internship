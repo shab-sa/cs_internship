{
 "cells": [
  {
   "attachments": {},
   "cell_type": "markdown",
   "metadata": {},
   "source": [
    "# Instructions\n",
    "\n",
    "Given a string representing a matrix of numbers, return the rows and columns of that matrix.\n",
    "\n",
    "So given a string with embedded newlines like:\n",
    "\n",
    "```text\n",
    "9 8 7\n",
    "5 3 2\n",
    "6 6 7\n",
    "```\n",
    "\n",
    "representing this matrix:\n",
    "\n",
    "```text\n",
    "    1  2  3\n",
    "  |---------\n",
    "1 | 9  8  7\n",
    "2 | 5  3  2\n",
    "3 | 6  6  7\n",
    "```\n",
    "\n",
    "your code should be able to spit out:\n",
    "\n",
    "- A list of the rows, reading each row left-to-right while moving top-to-bottom across the rows,\n",
    "- A list of the columns, reading each column top-to-bottom while moving from left-to-right.\n",
    "\n",
    "The rows for our example matrix:\n",
    "\n",
    "- 9, 8, 7\n",
    "- 5, 3, 2\n",
    "- 6, 6, 7\n",
    "\n",
    "And its columns:\n",
    "\n",
    "- 9, 5, 6\n",
    "- 8, 3, 6\n",
    "- 7, 2, 7\n"
   ]
  },
  {
   "cell_type": "code",
   "execution_count": 1,
   "metadata": {},
   "outputs": [],
   "source": [
    "class Matrix:\n",
    "    def __init__(self, matrix_string):\n",
    "        self.matrix=[]\n",
    "        rows=matrix_string.split('\\n')\n",
    "        for row in rows:\n",
    "            self.matrix.append(list(map(int, row.split())))\n",
    "\n",
    "    def row(self, index):\n",
    "        return self.matrix[index-1]\n",
    "\n",
    "    def column(self, index):\n",
    "        return [i[index-1] for i in self.matrix]\n"
   ]
  }
 ],
 "metadata": {
  "kernelspec": {
   "display_name": "Python 3",
   "language": "python",
   "name": "python3"
  },
  "language_info": {
   "codemirror_mode": {
    "name": "ipython",
    "version": 3
   },
   "file_extension": ".py",
   "mimetype": "text/x-python",
   "name": "python",
   "nbconvert_exporter": "python",
   "pygments_lexer": "ipython3",
   "version": "3.10.11"
  },
  "orig_nbformat": 4
 },
 "nbformat": 4,
 "nbformat_minor": 2
}
