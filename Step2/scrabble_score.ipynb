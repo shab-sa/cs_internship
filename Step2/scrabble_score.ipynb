{
 "cells": [
  {
   "attachments": {},
   "cell_type": "markdown",
   "metadata": {},
   "source": [
    "# Instructions\n",
    "\n",
    "Given a word, compute the Scrabble score for that word.\n",
    "\n",
    "## Letter Values\n",
    "\n",
    "You'll need these:\n",
    "\n",
    "```text\n",
    "Letter                           Value\n",
    "A, E, I, O, U, L, N, R, S, T       1\n",
    "D, G                               2\n",
    "B, C, M, P                         3\n",
    "F, H, V, W, Y                      4\n",
    "K                                  5\n",
    "J, X                               8\n",
    "Q, Z                               10\n",
    "```\n",
    "\n",
    "## Examples\n",
    "\n",
    "\"cabbage\" should be scored as worth 14 points:\n",
    "\n",
    "- 3 points for C\n",
    "- 1 point for A, twice\n",
    "- 3 points for B, twice\n",
    "- 2 points for G\n",
    "- 1 point for E\n",
    "\n",
    "And to total:\n",
    "\n",
    "- `3 + 2*1 + 2*3 + 2 + 1`\n",
    "- = `3 + 2 + 6 + 3`\n",
    "- = `5 + 9`\n",
    "- = 14\n",
    "\n",
    "## Extensions\n",
    "\n",
    "- You can play a double or a triple letter.\n",
    "- You can play a double or a triple word.\n"
   ]
  },
  {
   "cell_type": "code",
   "execution_count": 1,
   "metadata": {},
   "outputs": [],
   "source": [
    "def score(word):\n",
    "    char_score = {'A': 1, 'B': 3, 'C': 3, 'D': 2, 'E': 1, 'F': 4, 'G': 2, 'H': 4, 'I': 1, 'J': 8, 'K': 5, 'L': 1, 'M': 3, 'N': 1, 'O': 1, 'P': 3, 'Q': 10, 'R': 1, 'S': 1, 'T': 1, 'U': 1, 'V': 4, 'W': 4, 'X': 8, 'Y': 4, 'Z': 10}\n",
    "    s = 0\n",
    "    word = word.upper()\n",
    "    for c in word:\n",
    "        s += char_score[c]\n",
    "    return s\n"
   ]
  }
 ],
 "metadata": {
  "kernelspec": {
   "display_name": "Python 3",
   "language": "python",
   "name": "python3"
  },
  "language_info": {
   "codemirror_mode": {
    "name": "ipython",
    "version": 3
   },
   "file_extension": ".py",
   "mimetype": "text/x-python",
   "name": "python",
   "nbconvert_exporter": "python",
   "pygments_lexer": "ipython3",
   "version": "3.10.11"
  },
  "orig_nbformat": 4
 },
 "nbformat": 4,
 "nbformat_minor": 2
}
